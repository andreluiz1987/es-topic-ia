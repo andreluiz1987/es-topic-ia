{
 "cells": [
  {
   "cell_type": "markdown",
   "metadata": {},
   "source": [
    "\n",
    "# Import Libraries and Configure API Key\n",
    "In this cell, we import the necessary libraries and configure the API key to access OpenAI's services.\n",
    "\n",
    "- json: Used to handle data in JSON format.\n",
    "- openai: Library for interacting with OpenAI's API."
   ]
  },
  {
   "cell_type": "code",
   "execution_count": 28,
   "metadata": {},
   "outputs": [],
   "source": [
    "import json\n",
    "import openai\n",
    "\n",
    "openai.api_key = \"token\"\n"
   ]
  },
  {
   "cell_type": "markdown",
   "metadata": {},
   "source": [
    "This function extracts data from a JSON file containing information about movies."
   ]
  },
  {
   "cell_type": "code",
   "execution_count": 29,
   "metadata": {},
   "outputs": [],
   "source": [
    "def extract_movie_data(json_file):\n",
    "    try:\n",
    "        with open(json_file, 'r', encoding='utf-8') as file:\n",
    "            movies = json.load(file)\n",
    "\n",
    "        extracted_data = []\n",
    "        for movie in movies:\n",
    "            extracted_data.append({\n",
    "                \"title\": movie.get(\"title\"),\n",
    "                \"genre\": movie.get(\"genre\"),\n",
    "                \"description\": movie.get(\"description\")\n",
    "            })\n",
    "\n",
    "        return extracted_data\n",
    "\n",
    "    except FileNotFoundError:\n",
    "        print(f\"File not found: {json_file}\")\n",
    "    except json.JSONDecodeError:\n",
    "        print(\"Failed to decode JSON.\")\n",
    "    except Exception as e:\n",
    "        print(f\"Unexpected Error: {e}\")\n"
   ]
  },
  {
   "cell_type": "markdown",
   "metadata": {},
   "source": [
    "This function generates the input text (prompt) that will be sent to the GPT model. The prompt provides detailed instructions and an expected format for the results."
   ]
  },
  {
   "cell_type": "code",
   "execution_count": 30,
   "metadata": {},
   "outputs": [],
   "source": [
    "def create_prompt(batch):\n",
    "    base_prompt = (\n",
    "        \"You are an expert in semantic analysis and audiovisual content categorization. \"\n",
    "        \"Your task is to generate subcategories (max 2 topics) that describe specific aspects of movies based on their genres and descriptions. \"\n",
    "        \"Here are the movies to analyze:\\n\\n\"\n",
    "    )\n",
    "    for film in batch:\n",
    "        base_prompt += (\n",
    "            f\"Title: '{film['title']}'\\n\"\n",
    "            f\"Genres: {film['genre']}\\n\"\n",
    "            f\"Description: {film['description']}\\n\\n\"\n",
    "        )\n",
    "    base_prompt += (\n",
    "        \"For each movie, return the output in the following format:\\n\"\n",
    "        \"```\\n\"\n",
    "        \"[\\n\"\n",
    "        \"  {\\n\"\n",
    "        \"    \\\"title\\\": \\\"<Movie Title>\\\",\\n\"\n",
    "        \"    \\\"genre\\\": [<Genres>],\\n\"\n",
    "        \"    \\\"topics\\\": [<Generated Subcategories>]\\n\"\n",
    "        \"  }\\n\"\n",
    "        \"]\\n\"\n",
    "        \"```\"\n",
    "    )\n",
    "    return base_prompt\n"
   ]
  },
  {
   "cell_type": "markdown",
   "metadata": {},
   "source": [
    "This function sends the generated prompt to the GPT model and processes the response."
   ]
  },
  {
   "cell_type": "code",
   "execution_count": 31,
   "metadata": {},
   "outputs": [],
   "source": [
    "def call_gpt(prompt, model):\n",
    "    try:\n",
    "        response = openai.ChatCompletion.create(\n",
    "            model=model,\n",
    "            messages=[{\"role\": \"user\", \"content\": prompt}],\n",
    "            temperature=0.7,\n",
    "            max_tokens=1000\n",
    "        )\n",
    "        content = response[\"choices\"][0][\"message\"][\"content\"]\n",
    "\n",
    "        content_cleaned = content.replace(\"```json\", \"\").replace(\"```\", \"\").strip()\n",
    "\n",
    "        return eval(content_cleaned)\n",
    "    except Exception as e:\n",
    "        print(f\"Failed to use model: {e}\")\n",
    "        return None\n"
   ]
  },
  {
   "cell_type": "markdown",
   "metadata": {},
   "source": [
    "This function coordinates the process of generating topics in batches."
   ]
  },
  {
   "cell_type": "code",
   "execution_count": 32,
   "metadata": {},
   "outputs": [],
   "source": [
    "def generate_topics(films, batch_size=10):\n",
    "    results = []\n",
    "\n",
    "    for i in range(0, len(films), batch_size):\n",
    "        batch = films[i:i + batch_size]\n",
    "        prompt = create_prompt(batch)\n",
    "        response = call_gpt(prompt, \"gpt-4o-mini\")\n",
    "        if response:\n",
    "            results.extend(response)\n",
    "\n",
    "    return results\n"
   ]
  },
  {
   "cell_type": "code",
   "execution_count": 33,
   "metadata": {},
   "outputs": [
    {
     "name": "stdout",
     "output_type": "stream",
     "text": [
      "[\n",
      "    {\n",
      "        \"title\": \"The Lord of the Rings: The Fellowship of the Ring\",\n",
      "        \"genre\": [\n",
      "            \"Action\",\n",
      "            \"Adventure\",\n",
      "            \"Drama\"\n",
      "        ],\n",
      "        \"topics\": [\n",
      "            \"Epic Quest\",\n",
      "            \"Fantasy Worldbuilding\"\n",
      "        ]\n",
      "    },\n",
      "    {\n",
      "        \"title\": \"Interstellar\",\n",
      "        \"genre\": [\n",
      "            \"Adventure\",\n",
      "            \"Drama\",\n",
      "            \"Sci-Fi\"\n",
      "        ],\n",
      "        \"topics\": [\n",
      "            \"Space Exploration\",\n",
      "            \"Human Survival\"\n",
      "        ]\n",
      "    },\n",
      "    {\n",
      "        \"title\": \"The Martian\",\n",
      "        \"genre\": [\n",
      "            \"Adventure\",\n",
      "            \"Drama\",\n",
      "            \"Sci-Fi\"\n",
      "        ],\n",
      "        \"topics\": [\n",
      "            \"Survival Drama\",\n",
      "            \"Ingenuity in Isolation\"\n",
      "        ]\n",
      "    },\n",
      "    {\n",
      "        \"title\": \"Star Wars\",\n",
      "        \"genre\": [\n",
      "            \"Action\",\n",
      "            \"Adventure\",\n",
      "            \"Fantasy\"\n",
      "        ],\n",
      "        \"topics\": [\n",
      "            \"Galactic Conflict\",\n",
      "            \"Hero's Journey\"\n",
      "        ]\n",
      "    }\n",
      "]\n"
     ]
    }
   ],
   "source": [
    "json_file = \"movies.json\"\n",
    "\n",
    "films = extract_movie_data(json_file)\n",
    "\n",
    "results = generate_topics(films)\n",
    "\n",
    "print(json.dumps(results, indent=4, ensure_ascii=False))\n"
   ]
  },
  {
   "cell_type": "markdown",
   "metadata": {},
   "source": []
  }
 ],
 "metadata": {
  "kernelspec": {
   "display_name": "Python 3",
   "language": "python",
   "name": "python3"
  },
  "language_info": {
   "codemirror_mode": {
    "name": "ipython",
    "version": 3
   },
   "file_extension": ".py",
   "mimetype": "text/x-python",
   "name": "python",
   "nbconvert_exporter": "python",
   "pygments_lexer": "ipython3",
   "version": "3.9.6"
  }
 },
 "nbformat": 4,
 "nbformat_minor": 2
}
